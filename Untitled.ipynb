{
 "cells": [
  {
   "cell_type": "markdown",
   "metadata": {},
   "source": [
    "# Boxplots in Data Analysis"
   ]
  },
  {
   "cell_type": "markdown",
   "metadata": {},
   "source": [
    "![title](Images/BoxPlot.png)"
   ]
  },
  {
   "cell_type": "markdown",
   "metadata": {},
   "source": [
    "In this project I will be looking at boxplots and their uses in data analytics. I will:\n",
    "\n",
    "1) Summarise the history of the boxplot and the situations it is used.\n",
    "\n",
    "2) Demonstrate the use of the boxplot using some data.\n",
    "\n",
    "3) Explain any relevant terminology such as the terms quartile and percentile.\n",
    "\n",
    "4) Compare the boxplot to alternative models."
   ]
  },
  {
   "cell_type": "markdown",
   "metadata": {},
   "source": [
    "## The Python Libraries to be used\n",
    "\n",
    "Matplotlib is a Python 2D plotting library which produces publication quality figures in a variety of hardcopy formats and interactive environments across platforms."
   ]
  },
  {
   "cell_type": "code",
   "execution_count": 1,
   "metadata": {},
   "outputs": [],
   "source": [
    "import matplotlib.pyplot as plt"
   ]
  },
  {
   "cell_type": "markdown",
   "metadata": {},
   "source": [
    "## The history of the boxplot\n",
    "\n",
    "A boxplot is a method for graphically depicting groups of numerical data through their quartiles. It displays the five-number summary of a set of data, which is the minimum, first quartile, median, third quartile and maximum. These quartiles are the values that divide a list of numbers into quarters. Boxplots may also have lines extending vertically from the boxes indicating variability outside the upper and lower quartiles and so can also be called whisker plots. Outliers in relation to these plots refer to an observation that lies abnormal distance from other values in a data sample. This breakdown can be seen on the beliow figure 1."
   ]
  },
  {
   "cell_type": "markdown",
   "metadata": {},
   "source": [
    "![title](Images/BoxPlot1.png)"
   ]
  },
  {
   "cell_type": "markdown",
   "metadata": {},
   "source": [
    "The man responsible for the introduction of box and whisker plots was John Tukey. In the 1970's he introduced these as part of his toolkit for exploratory data analysis. Boxlots are a more compact distributional summary, displaying less detail than a histogram but also taking up less space. Boxplots have become one of the few plot types invented in the 20th century that has found widespread adoption. They are particulary useful for comparing distribution across groups."
   ]
  },
  {
   "cell_type": "code",
   "execution_count": null,
   "metadata": {},
   "outputs": [],
   "source": []
  }
 ],
 "metadata": {
  "kernelspec": {
   "display_name": "Python 3",
   "language": "python",
   "name": "python3"
  },
  "language_info": {
   "codemirror_mode": {
    "name": "ipython",
    "version": 3
   },
   "file_extension": ".py",
   "mimetype": "text/x-python",
   "name": "python",
   "nbconvert_exporter": "python",
   "pygments_lexer": "ipython3",
   "version": "3.6.5"
  }
 },
 "nbformat": 4,
 "nbformat_minor": 2
}
